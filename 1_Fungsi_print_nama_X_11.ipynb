{
  "nbformat": 4,
  "nbformat_minor": 0,
  "metadata": {
    "colab": {
      "provenance": [],
      "authorship_tag": "ABX9TyOigx9+KLYv676ofyxOjIW7",
      "include_colab_link": true
    },
    "kernelspec": {
      "name": "python3",
      "display_name": "Python 3"
    },
    "language_info": {
      "name": "python"
    }
  },
  "cells": [
    {
      "cell_type": "markdown",
      "metadata": {
        "id": "view-in-github",
        "colab_type": "text"
      },
      "source": [
        "<a href=\"https://colab.research.google.com/github/nuraisyahh/KKA-X-Semester-1/blob/main/1_Fungsi_print_nama_X_11.ipynb\" target=\"_parent\"><img src=\"https://colab.research.google.com/assets/colab-badge.svg\" alt=\"Open In Colab\"/></a>"
      ]
    },
    {
      "cell_type": "markdown",
      "source": [
        "Nama:Nur Aisyah\n",
        "\n",
        "Kelas:X.11\n",
        "\n",
        "No.absen:26"
      ],
      "metadata": {
        "id": "PjELCbx5Oj99"
      }
    },
    {
      "cell_type": "markdown",
      "source": [
        "#Menampilkan Teks Bebas"
      ],
      "metadata": {
        "id": "FmUI4k6BPB0r"
      }
    },
    {
      "cell_type": "code",
      "source": [
        "print(\"Nur Aisyah\")"
      ],
      "metadata": {
        "colab": {
          "base_uri": "https://localhost:8080/"
        },
        "id": "nWCFO_xsPsRq",
        "outputId": "99d41d6a-a389-44af-c2d0-fd81ff4b8439"
      },
      "execution_count": null,
      "outputs": [
        {
          "output_type": "stream",
          "name": "stdout",
          "text": [
            "Nur Aisyah\n"
          ]
        }
      ]
    },
    {
      "cell_type": "markdown",
      "source": [
        "#Menampilkan Nilai Variabel"
      ],
      "metadata": {
        "id": "QBW-W9pIP_N7"
      }
    },
    {
      "cell_type": "code",
      "source": [
        "nama_saudara=(\"Muhammad Rafa Azka putra\")\n",
        "\n",
        "print(nama_saudara)"
      ],
      "metadata": {
        "colab": {
          "base_uri": "https://localhost:8080/"
        },
        "id": "ZmyHqNh8Q5wk",
        "outputId": "3c560665-3cf3-4e8d-f145-761d725c0785"
      },
      "execution_count": null,
      "outputs": [
        {
          "output_type": "stream",
          "name": "stdout",
          "text": [
            "Muhammad Rafa Azka putra\n"
          ]
        }
      ]
    },
    {
      "cell_type": "code",
      "source": [
        "jumlah_saudara =(\"1\")\n",
        "print(jumlah_saudara)"
      ],
      "metadata": {
        "id": "HQEqGGagRaLP",
        "colab": {
          "base_uri": "https://localhost:8080/"
        },
        "outputId": "fc47422b-6ad7-448b-bea8-bd23991c2b6c"
      },
      "execution_count": null,
      "outputs": [
        {
          "output_type": "stream",
          "name": "stdout",
          "text": [
            "1\n"
          ]
        }
      ]
    },
    {
      "cell_type": "markdown",
      "source": [
        "#Menampilkan Teks Bebas Dan Nilai Variabel"
      ],
      "metadata": {
        "id": "g3TZQw5tTMnA"
      }
    },
    {
      "cell_type": "markdown",
      "source": [
        "#Menampilkan Teks Bebas Dan Nilai Variabel Menggunakan Tanda koma"
      ],
      "metadata": {
        "id": "TtrnK4CrUSek"
      }
    },
    {
      "cell_type": "code",
      "source": [
        "print(\"saya memiliki saudara sebanyak\", 'jumlah_saudara', \"nama saudara saya adalah\", 'nama_saudara')"
      ],
      "metadata": {
        "colab": {
          "base_uri": "https://localhost:8080/"
        },
        "id": "acKeW0LBRqs1",
        "outputId": "468833c7-af35-4dce-bb7c-935f57a6f1f7"
      },
      "execution_count": null,
      "outputs": [
        {
          "output_type": "stream",
          "name": "stdout",
          "text": [
            "saya memiliki saudara sebanyak jumlah_saudara nama saudara saya adalah nama_saudara\n"
          ]
        }
      ]
    },
    {
      "cell_type": "markdown",
      "source": [
        "#Menampilkan teks Bebas Dan Nilai Variabel Menggunakan Tanda Plus"
      ],
      "metadata": {
        "id": "ux5P6b5C3zQO"
      }
    },
    {
      "cell_type": "code",
      "source": [
        "print(\"saya memiliki saudara sebanyak \" + str('jumlah_saudara') + \". \" + \"Nama saudara saya adalah \" + 'nama_saudara' + \".\")"
      ],
      "metadata": {
        "colab": {
          "base_uri": "https://localhost:8080/"
        },
        "id": "qukjVzXs4Jy0",
        "outputId": "1e9016dc-2078-4ce2-a453-dcfc10a29b34"
      },
      "execution_count": null,
      "outputs": [
        {
          "output_type": "stream",
          "name": "stdout",
          "text": [
            "saya memiliki saudara sebanyak jumlah_saudara. Nama saudara saya adalah nama_saudara.\n"
          ]
        }
      ]
    },
    {
      "cell_type": "markdown",
      "source": [
        "#Menampilkan teks Bebas Dan Nilai variabel menggunakan f String"
      ],
      "metadata": {
        "id": "4_MRW3tv5nQ2"
      }
    },
    {
      "cell_type": "code",
      "source": [
        "print(f\"saya memiliki saudara sebanyak,{'jumlah_saudara'}. Nama saudara Saya adalah{'nama_saudara'}.\")"
      ],
      "metadata": {
        "colab": {
          "base_uri": "https://localhost:8080/"
        },
        "id": "wtj7tFzb50Ew",
        "outputId": "325bf7b8-72f5-49bb-e633-d1eb4dad304f"
      },
      "execution_count": null,
      "outputs": [
        {
          "output_type": "stream",
          "name": "stdout",
          "text": [
            "saya memiliki saudara sebanyak,jumlah_saudara. Nama saudara Saya adalahnama_saudara.\n"
          ]
        }
      ]
    },
    {
      "cell_type": "markdown",
      "source": [
        "#Escape Character"
      ],
      "metadata": {
        "id": "mCwcAJM06UXN"
      }
    },
    {
      "cell_type": "code",
      "source": [
        "print(\"Nama: Nur Aisyah\")\n",
        "print(\"Kelas: x.11\")\n",
        "print(\"No.Absen: 26\")"
      ],
      "metadata": {
        "colab": {
          "base_uri": "https://localhost:8080/"
        },
        "id": "oTvuEYXUWzqR",
        "outputId": "9374c90e-9fbf-4353-8984-c742bee60ec1"
      },
      "execution_count": null,
      "outputs": [
        {
          "output_type": "stream",
          "name": "stdout",
          "text": [
            "Nama: Nur Aisyah\n",
            "Kelas: x.11\n",
            "No.Absen: 26\n"
          ]
        }
      ]
    },
    {
      "cell_type": "code",
      "source": [
        "print(\"Nama: Nur Aisyah\\nKelas: \\nNo.Absen: 26\")"
      ],
      "metadata": {
        "colab": {
          "base_uri": "https://localhost:8080/"
        },
        "id": "2WGNtAceXMJi",
        "outputId": "ae5fc015-2ec6-4da8-8417-61ef3f1341fe"
      },
      "execution_count": null,
      "outputs": [
        {
          "output_type": "stream",
          "name": "stdout",
          "text": [
            "Nama: Nur Aisyah\n",
            "Kelas: \n",
            "No.Absen: 26\n"
          ]
        }
      ]
    },
    {
      "cell_type": "code",
      "source": [
        "print(\"\"\"Nama\\t\\t: Nur Aisyah\n",
        "Kelas\\t\\t: x.11\n",
        "No.Absen\\t:26\"\"\")"
      ],
      "metadata": {
        "colab": {
          "base_uri": "https://localhost:8080/"
        },
        "id": "wRiFEjVyXh3v",
        "outputId": "8cd84861-2d7a-4dcc-9133-348e6b14f48a"
      },
      "execution_count": null,
      "outputs": [
        {
          "output_type": "stream",
          "name": "stdout",
          "text": [
            "Nama\t\t: Nur Aisyah\n",
            "Kelas\t\t: x.11\n",
            "No.Absen\t:26\n"
          ]
        }
      ]
    },
    {
      "cell_type": "code",
      "source": [
        "print(\"Nur Aisyah\")"
      ],
      "metadata": {
        "id": "w42ci1xCaIIR",
        "colab": {
          "base_uri": "https://localhost:8080/"
        },
        "outputId": "af3d38ca-5c0b-4bae-d078-55fb14f85fbe"
      },
      "execution_count": null,
      "outputs": [
        {
          "output_type": "stream",
          "name": "stdout",
          "text": [
            "Nur Aisyah\n"
          ]
        }
      ]
    },
    {
      "cell_type": "code",
      "source": [
        "print('Nur Aisyah')"
      ],
      "metadata": {
        "colab": {
          "base_uri": "https://localhost:8080/"
        },
        "id": "AMz7ZQiVFrIL",
        "outputId": "41aabb19-145f-47fe-8c89-b8acebeffc15"
      },
      "execution_count": null,
      "outputs": [
        {
          "output_type": "stream",
          "name": "stdout",
          "text": [
            "Nur Aisyah\n"
          ]
        }
      ]
    },
    {
      "cell_type": "code",
      "source": [
        "print('Habib Ja\\'far')"
      ],
      "metadata": {
        "colab": {
          "base_uri": "https://localhost:8080/"
        },
        "id": "8aC3OPDHFzpG",
        "outputId": "e5edd40f-8240-49e3-fb17-9c7f38e02508"
      },
      "execution_count": null,
      "outputs": [
        {
          "output_type": "stream",
          "name": "stdout",
          "text": [
            "Habib Ja'far\n"
          ]
        }
      ]
    },
    {
      "cell_type": "code",
      "source": [
        "print(\"Habib Ja'far\")"
      ],
      "metadata": {
        "colab": {
          "base_uri": "https://localhost:8080/"
        },
        "id": "eGb4rb5jF9cm",
        "outputId": "d14bbb98-e2a2-4dd8-f0a4-01d483b1652c"
      },
      "execution_count": null,
      "outputs": [
        {
          "output_type": "stream",
          "name": "stdout",
          "text": [
            "Habib Ja'far\n"
          ]
        }
      ]
    },
    {
      "cell_type": "code",
      "source": [
        "print('Bu Shinta berkata, \"Harap fokus menyimak!\".')"
      ],
      "metadata": {
        "colab": {
          "base_uri": "https://localhost:8080/"
        },
        "id": "6Bjl7vHHGEP5",
        "outputId": "cc96628a-b4b6-4e6c-f9a0-c5ccad3bee55"
      },
      "execution_count": null,
      "outputs": [
        {
          "output_type": "stream",
          "name": "stdout",
          "text": [
            "Bu Shinta berkata, \"Harap fokus menyimak!\".\n"
          ]
        }
      ]
    },
    {
      "cell_type": "code",
      "source": [
        "print(\"Bu Shinta berkata, \\\"Harap fokus menyimak!\\\".\")"
      ],
      "metadata": {
        "colab": {
          "base_uri": "https://localhost:8080/"
        },
        "id": "atFgJGz0GwUJ",
        "outputId": "fbcd469e-0b0e-4850-ff97-beee4d5ecf31"
      },
      "execution_count": null,
      "outputs": [
        {
          "output_type": "stream",
          "name": "stdout",
          "text": [
            "Bu Shinta berkata, \"Harap fokus menyimak!\".\n"
          ]
        }
      ]
    },
    {
      "cell_type": "code",
      "source": [
        "print(\"Lokasi penyimpanan tugas KKA di D:\\\\MAN Demak\\\\KKA\\\\Tugad\")"
      ],
      "metadata": {
        "colab": {
          "base_uri": "https://localhost:8080/"
        },
        "id": "ptpVprTvG9HI",
        "outputId": "cddaeac3-5b50-46a9-8075-30e30fa3ae9d"
      },
      "execution_count": null,
      "outputs": [
        {
          "output_type": "stream",
          "name": "stdout",
          "text": [
            "Lokasi penyimpanan tugas KKA di D:\\MAN Demak\\KKA\\Tugad\n"
          ]
        }
      ]
    },
    {
      "cell_type": "markdown",
      "source": [
        "#Fungsi Parameter"
      ],
      "metadata": {
        "id": "OnpFY6cvefD-"
      }
    },
    {
      "cell_type": "code",
      "source": [
        "nama_siswa_1=\"Daffanes\"\n",
        "nama_siswa_2=\"Adzka\"\n",
        "nama_siswa_3=\"Haidar\"\n",
        "\n",
        "print(nama_siswa_1, nama_siswa_2, sep=\"_\")"
      ],
      "metadata": {
        "colab": {
          "base_uri": "https://localhost:8080/"
        },
        "id": "wnjpTdeOetWa",
        "outputId": "fc3b2cb5-650e-4e46-ee39-24b3dc1a9e5d"
      },
      "execution_count": null,
      "outputs": [
        {
          "output_type": "stream",
          "name": "stdout",
          "text": [
            "Daffanes_Adzka\n"
          ]
        }
      ]
    },
    {
      "cell_type": "code",
      "source": [
        "#Latihan\n",
        "#Silakan tampilkan keluaran/output berupa:\n",
        "#Haidar*Adzka*Daffanes*Adzka"
      ],
      "metadata": {
        "id": "BtlcuTaAf2Ta"
      },
      "execution_count": null,
      "outputs": []
    },
    {
      "cell_type": "code",
      "source": [
        "print(\"nama_siswa_1\")"
      ],
      "metadata": {
        "id": "JT1BnqjkYKGm",
        "colab": {
          "base_uri": "https://localhost:8080/"
        },
        "outputId": "e953c039-7e27-429b-830e-3dcc8d3cd033"
      },
      "execution_count": null,
      "outputs": [
        {
          "output_type": "stream",
          "name": "stdout",
          "text": [
            "nama_siswa_1\n"
          ]
        }
      ]
    },
    {
      "cell_type": "code",
      "source": [
        "print(\"Nama_Siswa_1\")"
      ],
      "metadata": {
        "colab": {
          "base_uri": "https://localhost:8080/"
        },
        "id": "skNuJb3puuPo",
        "outputId": "f80c9d13-6148-4368-c013-f0ef66a55c7d"
      },
      "execution_count": null,
      "outputs": [
        {
          "output_type": "stream",
          "name": "stdout",
          "text": [
            "Nama_Siswa_1\n"
          ]
        }
      ]
    },
    {
      "cell_type": "code",
      "source": [
        "print(\"nama_siswa_2\")"
      ],
      "metadata": {
        "colab": {
          "base_uri": "https://localhost:8080/"
        },
        "id": "qepNKQH1vBrh",
        "outputId": "27dbc9f4-0e80-4b90-e4b4-66360a1b11cb"
      },
      "execution_count": null,
      "outputs": [
        {
          "output_type": "stream",
          "name": "stdout",
          "text": [
            "nama_siswa_2\n"
          ]
        }
      ]
    },
    {
      "cell_type": "code",
      "source": [
        "print(nama_siswa_2)"
      ],
      "metadata": {
        "colab": {
          "base_uri": "https://localhost:8080/"
        },
        "id": "WjRPaetUvNV_",
        "outputId": "59654ba8-3856-4926-f265-1781009a21a0"
      },
      "execution_count": null,
      "outputs": [
        {
          "output_type": "stream",
          "name": "stdout",
          "text": [
            "Adzka\n"
          ]
        }
      ]
    },
    {
      "cell_type": "code",
      "source": [
        "nama_siswa_1 = \"Daffanes\"\n",
        "nama_siswa_2 = \"Adzka\"\n",
        "nama_siswa_3 = \"Haidar\"\n",
        "\n",
        "print(nama_siswa_1,nama_siswa_2, sep=\"-\")"
      ],
      "metadata": {
        "colab": {
          "base_uri": "https://localhost:8080/"
        },
        "id": "LD5clQy6vvin",
        "outputId": "b13c2883-c916-4c61-aee5-6bdd5026235d"
      },
      "execution_count": null,
      "outputs": [
        {
          "output_type": "stream",
          "name": "stdout",
          "text": [
            "Daffanes-Adzka\n"
          ]
        }
      ]
    },
    {
      "cell_type": "code",
      "source": [
        "print(nama_siswa_1)\n",
        "print(nama_siswa_2)"
      ],
      "metadata": {
        "colab": {
          "base_uri": "https://localhost:8080/"
        },
        "id": "OBfocbMqycVU",
        "outputId": "be1c9dfe-1e1e-41ce-f469-ab7902fb509a"
      },
      "execution_count": null,
      "outputs": [
        {
          "output_type": "stream",
          "name": "stdout",
          "text": [
            "Daffanes\n",
            "Adzka\n"
          ]
        }
      ]
    },
    {
      "cell_type": "code",
      "source": [
        "print(nama_siswa_1,nama_siswa_2)"
      ],
      "metadata": {
        "colab": {
          "base_uri": "https://localhost:8080/"
        },
        "id": "D_v5KO8lyzL5",
        "outputId": "f1f7bc3a-886a-4fff-f8a6-71cdb42d93e1"
      },
      "execution_count": null,
      "outputs": [
        {
          "output_type": "stream",
          "name": "stdout",
          "text": [
            "Daffanes Adzka\n"
          ]
        }
      ]
    },
    {
      "cell_type": "code",
      "source": [
        "print(nama_siswa_1, end=\"-\")\n",
        "print(nama_siswa_2)"
      ],
      "metadata": {
        "colab": {
          "base_uri": "https://localhost:8080/"
        },
        "id": "r83eVaLhzKnD",
        "outputId": "0a13b2db-6db2-42f3-e35c-fc32c5a7d856"
      },
      "execution_count": null,
      "outputs": [
        {
          "output_type": "stream",
          "name": "stdout",
          "text": [
            "Daffanes-Adzka\n"
          ]
        }
      ]
    },
    {
      "cell_type": "code",
      "source": [],
      "metadata": {
        "id": "ZmSBg_Ba0Gfg"
      },
      "execution_count": null,
      "outputs": []
    }
  ]
}